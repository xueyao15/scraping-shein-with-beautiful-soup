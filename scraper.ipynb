{
 "cells": [
  {
   "cell_type": "markdown",
   "metadata": {},
   "source": [
    "## Scraping SHEIN with Beautiful Soup"
   ]
  },
  {
   "cell_type": "markdown",
   "metadata": {},
   "source": [
    "#### Libraries\n",
    "* requests: Sends HTTP requests.\n",
    "* beautifulsoup4: Pulls data out of HTML and XML files.\n",
    "* lxml: Provides powerful API for parsing HTML and XML."
   ]
  },
  {
   "cell_type": "code",
   "execution_count": 10,
   "metadata": {},
   "outputs": [],
   "source": [
    "import requests\n",
    "from bs4 import BeautifulSoup"
   ]
  },
  {
   "cell_type": "markdown",
   "metadata": {},
   "source": [
    "When we send an HTTP request, we send some headers along with the request.\n",
    "\n",
    "(Control + Shift + I)and switch to the Network tab and reload any page, you can find the request headers.\n",
    "\n",
    "Refer to : https://developer.mozilla.org/en-US/docs/Glossary/Request_header"
   ]
  },
  {
   "cell_type": "code",
   "execution_count": 11,
   "metadata": {},
   "outputs": [],
   "source": [
    "headers = {\n",
    "  'User-Agent': 'Mozilla/5.0 (Windows NT 10.0; Win64; x64) AppleWebKit/537.36 (KHTML, like Gecko) Chrome/106.0.0.0 Safari/537.36',\n",
    "  'Accept-Language': 'en-US,en;q=0.5'\n",
    "}"
   ]
  },
  {
   "cell_type": "markdown",
   "metadata": {},
   "source": [
    "To view the HTML code, we have an Inspect option in every browser. (Ctrl + Shift + I). For example, open [this page](https://ca.shein.com/SHEIN-CURVE-Women-s-Plus-Size-Color-Block-Round-Neck-Sleeveless-Dress-p-28209235.html?src_identifier=uf=caadgpm_PlusSize_20230814_GPM&src_module=ads&mallCode=1&pageListType=4&imgRatio=3-4)\n",
    "\n",
    "Make sure you are on the Elements tab in the Developer tools panel"
   ]
  },
  {
   "cell_type": "markdown",
   "metadata": {},
   "source": [
    "* Use the .find() method to find a span element. \n",
    "* Then pass the productTitle id in a dictionary called attrs that accepts the attributes. \n",
    "* The .get_text() method returns the text in a string format. \n",
    "* The .strip() method is used to remove any extra leading and trailing whitespaces."
   ]
  },
  {
   "cell_type": "code",
   "execution_count": 12,
   "metadata": {},
   "outputs": [],
   "source": [
    "# accepts a url and returns a dictionary\n",
    "def get_product_details(product_url: str) -> dict:\n",
    "  # Create an empty product details dictionary\n",
    "  product_details = {}\n",
    "\n",
    "  # Get the product page content and create a soup\n",
    "  page = requests.get(product_url, headers=headers)\n",
    "  soup = BeautifulSoup(page.content, features=\"lxml\")\n",
    "  try:\n",
    "    # Scrape the product details\n",
    "    title = soup.find('h1', attrs={'class': 'product-intro__head-name'}).get_text().strip()\n",
    "    extracted_price = soup.find('del', attrs={'class': 'del-price'}).get_text().strip()\n",
    "    price = extracted_price.split('$')[1]\n",
    "\n",
    "    # Adding it to the product details dictionary\n",
    "    product_details['title'] = title\n",
    "    product_details['price'] = price\n",
    "    product_details['product_url'] = product_url\n",
    "\n",
    "    # Return the product details dictionary\n",
    "    return product_details\n",
    "  except Exception as e:\n",
    "    print('Could not fetch product details')\n",
    "    print(f'Failed with exception: {e}')\n"
   ]
  },
  {
   "cell_type": "code",
   "execution_count": 13,
   "metadata": {},
   "outputs": [],
   "source": [
    "product_url = input('Enter product url: ')"
   ]
  },
  {
   "cell_type": "code",
   "execution_count": 14,
   "metadata": {},
   "outputs": [
    {
     "name": "stdout",
     "output_type": "stream",
     "text": [
      "{'title': \"SHEIN CURVE+ Women's Plus Size Color Block Round Neck Sleeveless Dress\", 'price': '28.99', 'product_url': 'https://ca.shein.com/SHEIN-CURVE-Women-s-Plus-Size-Color-Block-Round-Neck-Sleeveless-Dress-p-28209235.html?src_identifier=uf=caadgpm_PlusSize_20230814_GPM&src_module=ads&mallCode=1&pageListType=4&imgRatio=3-4'}\n"
     ]
    }
   ],
   "source": [
    "product_details = get_product_details(product_url)\n",
    "print(product_details)"
   ]
  }
 ],
 "metadata": {
  "kernelspec": {
   "display_name": "Python 3",
   "language": "python",
   "name": "python3"
  },
  "language_info": {
   "codemirror_mode": {
    "name": "ipython",
    "version": 3
   },
   "file_extension": ".py",
   "mimetype": "text/x-python",
   "name": "python",
   "nbconvert_exporter": "python",
   "pygments_lexer": "ipython3",
   "version": "3.10.4"
  }
 },
 "nbformat": 4,
 "nbformat_minor": 2
}
